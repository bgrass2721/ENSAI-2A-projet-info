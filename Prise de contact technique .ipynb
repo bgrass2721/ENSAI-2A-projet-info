{
 "cells": [
  {
   "cell_type": "code",
   "execution_count": null,
   "id": "b82d1288",
   "metadata": {},
   "outputs": [
    {
     "data": {
      "text/plain": [
       "\"I feel your breath upon my neck A soft caress as cold as death I didn't know you well back then I blame it all on luck and vain Your blood like wine, I wanted in Oh darling, get me drunk and make me feel  It's not my fault I'm not to blame These ain't my sins I broke my chains There's more to do And I still want to live  I feel your breath, upon my neck A soft caress, as cold as death I feel your heart-beat in my soul Our futures bound, our bodies know Your blood like wine, I wanted in Oh darling get me drunk, invite me in  It's not my fault I'm not to blame Thesе ain't my sins I broke my chains There's morе to do If I can only live  I can't go yet Don't let me die I'll never stop Until I'm done But just tonight Maybe I'll rest in peace  I feel your breath upon my neck A soft caress as cold as death (Cold as death) I hear your heart-beat in my soul Our endings bound, our bodies know  I can't go yet Don't let me die I want to live My only one There's more to do, if we can only live The clock won't stop and this is what we get\""
      ]
     },
     "execution_count": 1,
     "metadata": {},
     "output_type": "execute_result"
    }
   ],
   "source": [
    "import requests\n",
    "\n",
    "def get_paroles(artiste, chanson):\n",
    "    \n",
    "    artiste = artiste.replace(\" \",\"+\")+\"&\"\n",
    "    chanson = chanson.replace(\" \",\"+\")+\"&\"\n",
    "      \n",
    "    url = (\"https://lrclib.net/api/get?\"\n",
    "       \"artist_name=\"+artiste+\"\"\n",
    "       \"track_name=\"+chanson+\"\"\n",
    "       #\"album_name=Baldur%27s+Gate+3+(Original+Game+Soundtrack)&\"\n",
    "       \"duration=233\")\n",
    "\n",
    "    response = requests.get(url, timeout=15)\n",
    "\n",
    "    if reponse.status_code == 404:\n",
    "        print(\"404\")\n",
    "    \n",
    "    else:\n",
    "        response.raise_for_status()\n",
    "        paroles = response.json()\n",
    "        paroles = paroles.get(\"plainLyrics\") # avec timeline \n",
    "        #paroles = paroles.get(\"syncedLyrics\") # sans timeline\n",
    "        lignes = paroles.splitlines() \n",
    "        if len(lignes)>0: \n",
    "            paroles = \" \".join(ligne for ligne in lignes) # concaténation des éléments de la liste\n",
    "\n",
    "    return paroles\n",
    "            \n",
    "paroles = get_paroles(\"Borislav Slavov\", \"I Want to Live\")\n",
    "paroles "
   ]
  },
  {
   "cell_type": "markdown",
   "id": "84850220",
   "metadata": {},
   "source": [
    "from sentence_transformers import SentenceTransformer\n",
    "sentences = [\"This is an example sentence\", \"Each sentence is converted\"]\n",
    "model = SentenceTransformer('sentence-transformers/all-MiniLM-L6-v2')\n",
    "embeddings = model.encode(sentences)\n",
    "print(embeddings)"
   ]
  },
  {
   "cell_type": "code",
   "execution_count": null,
   "id": "b55c992f",
   "metadata": {},
   "outputs": [
    {
     "data": {
      "text/plain": [
       "('Erreur 400 :', '{\"detail\":\"Model \\'Mistral\\' was not found\"}')"
      ]
     },
     "execution_count": 4,
     "metadata": {},
     "output_type": "execute_result"
    }
   ],
   "source": [
    "import json\n",
    "\n",
    "def get_embedding(texte):\n",
    "    OLLAMA_EMBED_URL = \"https://llm.lab.sspcloud.fr/ollama/api/embed\"\n",
    "    token = \"...\"\n",
    "    headers = {\"Content-Type\": \"application/json\", \"Authorization\": f\"Bearer {token}\"}\n",
    "    data = {\"model\": \"bge-m3\", \"input\": texte}\n",
    "    response = requests.post(OLLAMA_EMBED_URL, headers=headers, data=json.dumps(data))\n",
    "    if response.status_code == 200:    \n",
    "        embedding = response.json().get(\"embeddings\")[0]    \n",
    "        #print(f\"Embedding (taille {len(embedding)}): {embedding[:10]} ...\")\n",
    "        return embedding\n",
    "    else:    \n",
    "        return(f\"Erreur {response.status_code} :\", response.text)\n",
    "\n",
    "get_embedding(paroles)"
   ]
  },
  {
   "cell_type": "code",
   "execution_count": 15,
   "id": "b892c8c9",
   "metadata": {},
   "outputs": [],
   "source": [
    "import psycopg2\n",
    "\n",
    "class DAO: \n",
    "    def __init__(self):\n",
    "        conn = psycopg2.connect(\n",
    "            host=\"postgresql-33864.user-id2657\",\n",
    "            port=5432,\n",
    "            dbname=\"defaultdb\",\n",
    "            user=\"user-id2657\",\n",
    "            password=\"clf1r4ubnthwvxlk9mgt\"\n",
    "        )\n",
    "        cur = conn.cursor()\n",
    "        cur.execute(\n",
    "            \"\"\"\n",
    "            CREATE TABLE IF NOT EXISTS etudiants (\n",
    "                id SERIAL PRIMARY KEY,\n",
    "                nom VARCHAR(100),\n",
    "                age INT,\n",
    "                ville VARCHAR(100),\n",
    "                embed_paroles FLOAT8[]\n",
    "            );\n",
    "            \"\"\"\n",
    "        )\n",
    "        conn.commit()  \n",
    "        cur.close()\n",
    "        conn.close()\n",
    "        \n",
    "\n",
    "    def now(self):\n",
    "        conn = psycopg2.connect(\n",
    "            host=\"postgresql-33864.user-id2657\",\n",
    "            port=5432,\n",
    "            dbname=\"defaultdb\",\n",
    "            user=\"user-id2657\",\n",
    "            password=\"clf1r4ubnthwvxlk9mgt\"\n",
    "        )\n",
    "        cur = conn.cursor()\n",
    "        cur.execute(\"SELECT NOW();\")\n",
    "        retour = cur.fetchone()[0]\n",
    "        cur.close()\n",
    "        conn.close()\n",
    "        return retour \n",
    "\n",
    "    def add_embed_paroles(self, nom, age, ville, embed_paroles):\n",
    "        conn = psycopg2.connect(\n",
    "            host=\"postgresql-33864.user-id2657\",\n",
    "            port=5432,\n",
    "            dbname=\"defaultdb\",\n",
    "            user=\"user-id2657\",\n",
    "            password=\"clf1r4ubnthwvxlk9mgt\"\n",
    "        )\n",
    "        cur = conn.cursor()\n",
    "        cur.execute(\n",
    "            \"\"\"\n",
    "            INSERT INTO etudiants (nom, age, ville, embed_paroles)\n",
    "            VALUES (%s, %s, %s, %s)\n",
    "            \"\"\",\n",
    "            (nom, age, ville, embed_paroles),\n",
    "        )\n",
    "        conn.commit()\n",
    "        cur.close()\n",
    "        conn.close()\n",
    "\n",
    "    def tables_existantes(self):\n",
    "        conn = psycopg2.connect(\n",
    "            host=\"postgresql-33864.user-id2657\",\n",
    "            port=5432,\n",
    "            dbname=\"defaultdb\",\n",
    "            user=\"user-id2657\",\n",
    "            password=\"clf1r4ubnthwvxlk9mgt\"\n",
    "        )\n",
    "        cur = conn.cursor()\n",
    "        cur.execute(\n",
    "            \"\"\"\n",
    "            SELECT table_name \n",
    "            FROM information_schema.tables\n",
    "            WHERE table_schema = 'public';\n",
    "            \"\"\"\n",
    "        )\n",
    "        retour = [t[0] for t in cur.fetchall()]\n",
    "        cur.close()\n",
    "        conn.close()\n",
    "        return retour \n",
    "\n",
    "    def voir_table(self, table):\n",
    "        conn = psycopg2.connect(\n",
    "            host=\"postgresql-33864.user-id2657\",\n",
    "            port=5432,\n",
    "            dbname=\"defaultdb\",\n",
    "            user=\"user-id2657\",\n",
    "            password=\"clf1r4ubnthwvxlk9mgt\"\n",
    "        )\n",
    "        cur = conn.cursor()\n",
    "        cur.execute(f'SELECT * FROM \"{table.strip()}\" LIMIT 10;')\n",
    "        retour = cur.fetchall()\n",
    "        cur.close()\n",
    "        conn.close()\n",
    "        return retour \n",
    "\n",
    "    def supprimer_table(self, table):\n",
    "        conn = psycopg2.connect(\n",
    "            host=\"postgresql-33864.user-id2657\",\n",
    "            port=5432,\n",
    "            dbname=\"defaultdb\",\n",
    "            user=\"user-id2657\",\n",
    "            password=\"clf1r4ubnthwvxlk9mgt\"\n",
    "        )\n",
    "        cur = conn.cursor()\n",
    "        cur.execute(f'DROP TABLE IF EXISTS \"{table.strip()}\";')\n",
    "        conn.commit()\n",
    "        cur.close()\n",
    "        conn.close()\n",
    "\n"
   ]
  },
  {
   "cell_type": "code",
   "execution_count": 16,
   "id": "8dee5cf8",
   "metadata": {},
   "outputs": [],
   "source": [
    "dao = DAO()"
   ]
  },
  {
   "cell_type": "code",
   "execution_count": 17,
   "id": "acdcdaf5",
   "metadata": {},
   "outputs": [
    {
     "data": {
      "text/plain": [
       "['etudiants']"
      ]
     },
     "execution_count": 17,
     "metadata": {},
     "output_type": "execute_result"
    }
   ],
   "source": [
    "dao.tables_existantes()"
   ]
  },
  {
   "cell_type": "code",
   "execution_count": 18,
   "id": "dbda1355",
   "metadata": {},
   "outputs": [],
   "source": [
    "dao.supprimer_table(\"etudiants\")"
   ]
  },
  {
   "cell_type": "code",
   "execution_count": 19,
   "id": "eb26fa23",
   "metadata": {},
   "outputs": [
    {
     "data": {
      "text/plain": [
       "[]"
      ]
     },
     "execution_count": 19,
     "metadata": {},
     "output_type": "execute_result"
    }
   ],
   "source": [
    "dao.tables_existantes()"
   ]
  },
  {
   "cell_type": "code",
   "execution_count": 20,
   "id": "1a0db8bd",
   "metadata": {},
   "outputs": [],
   "source": [
    "dao = DAO()"
   ]
  }
 ],
 "metadata": {
  "kernelspec": {
   "display_name": "Python 3",
   "language": "python",
   "name": "python3"
  },
  "language_info": {
   "codemirror_mode": {
    "name": "ipython",
    "version": 3
   },
   "file_extension": ".py",
   "mimetype": "text/x-python",
   "name": "python",
   "nbconvert_exporter": "python",
   "pygments_lexer": "ipython3",
   "version": "3.13.7"
  }
 },
 "nbformat": 4,
 "nbformat_minor": 5
}
